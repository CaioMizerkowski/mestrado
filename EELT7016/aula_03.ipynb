{
 "cells": [
  {
   "cell_type": "markdown",
   "metadata": {},
   "source": [
    "- Filtro de Kalman - generalização dos minimos quadrados\n",
    "\n",
    "$y(t)-0.9y(t-1) = 1u(t-1)+v(t)$\n",
    "- v é o residuo, ruído branco com média zero"
   ]
  },
  {
   "cell_type": "markdown",
   "metadata": {},
   "source": [
    "Atualização da matriz de covariâncoia P(t):\n",
    "- Usa uma matriz Q(t), que define a confiança em cada parametro\n",
    "\n",
    "Analise de sensibilidade\n",
    "- Qual o efeito de um parametro em relação a variação do outro parametro\n",
    "- Visto em estatistica"
   ]
  },
  {
   "cell_type": "markdown",
   "metadata": {},
   "source": [
    "- $\\lambda$ é o esquecimento, entre 0.97 e 1 é o usado em geral\n",
    "- variavel: traço de P sobre traço 0 se o traço de P é menor que traço 0\n",
    "- fator de esquecimento exponencial"
   ]
  },
  {
   "cell_type": "markdown",
   "metadata": {},
   "source": [
    "- GARCH - hetero cedadico - a variancia é variante\n",
    "- inferencia causal"
   ]
  },
  {
   "cell_type": "markdown",
   "metadata": {},
   "source": [
    "- aproximação estocastica\n",
    "- poucos recursos computacionais\n",
    "- não-deterministico\n",
    "- evita a operação de inversa\n",
    "- aprendizado sequêncial"
   ]
  },
  {
   "cell_type": "markdown",
   "metadata": {},
   "source": [
    "- matriz extendida\n",
    "- Spall\n",
    "- SPSA"
   ]
  }
 ],
 "metadata": {
  "kernelspec": {
   "display_name": "Python 3.10.4 64-bit ('3.10.4')",
   "language": "python",
   "name": "python3"
  },
  "language_info": {
   "name": "python",
   "version": "3.10.4"
  },
  "orig_nbformat": 4,
  "vscode": {
   "interpreter": {
    "hash": "8ebb7c335093bb2a6e5a771fe2f24267b9482242c441074cc9d820c00b8871c6"
   }
  }
 },
 "nbformat": 4,
 "nbformat_minor": 2
}
