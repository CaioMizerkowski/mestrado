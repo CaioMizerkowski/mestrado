{
 "cells": [
  {
   "cell_type": "markdown",
   "metadata": {},
   "source": [
    "- Estratégia direta - imune ao acumulo de erro\n",
    "- preve direto a enesima amostra\n",
    "- DirRec: junção da direta e da recursiva "
   ]
  },
  {
   "cell_type": "markdown",
   "metadata": {},
   "source": [
    "- Filtro de Kalman\n",
    "- fusão de sensores\n",
    "- custo computacional baixo\n",
    "- 3 matrizes de incerteza para ajustar\n",
    "- robustos a ruído\n",
    "- ruído com distribuição multivariada\n",
    "- usado para tratar video e mercado financeiro"
   ]
  },
  {
   "cell_type": "markdown",
   "metadata": {},
   "source": []
  }
 ],
 "metadata": {
  "kernelspec": {
   "display_name": "Python 3.10.4 64-bit ('3.10.4')",
   "language": "python",
   "name": "python3"
  },
  "language_info": {
   "name": "python",
   "version": "3.10.4"
  },
  "orig_nbformat": 4,
  "vscode": {
   "interpreter": {
    "hash": "8ebb7c335093bb2a6e5a771fe2f24267b9482242c441074cc9d820c00b8871c6"
   }
  }
 },
 "nbformat": 4,
 "nbformat_minor": 2
}
