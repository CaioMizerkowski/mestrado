{
 "cells": [
  {
   "cell_type": "markdown",
   "metadata": {},
   "source": [
    "- Lloyd shapley - entender o porque\n",
    "- Data-Driven Approaches vs Model-Driven Approaches\n",
    "- Qualidade dos dados\n",
    "- Tempo de amostragem"
   ]
  },
  {
   "cell_type": "markdown",
   "metadata": {},
   "source": [
    "Data-driven approaches\n",
    "- Sensor\n",
    "- Pré-processamento (corelação e multi coliniaridade)\n",
    "- Extração de features\n",
    "- Pos processamento\n",
    "- Reconhecimento de padrões\n",
    "- Decisão (ou auxilio na tomada de decisão) - TOPSIS e AHP (processo analitico hierarquico)"
   ]
  },
  {
   "cell_type": "markdown",
   "metadata": {},
   "source": [
    "- Sympton-based decision - detecção de anomalias\n",
    "- Concept drift - o modelo para de ser aderente ao problema"
   ]
  },
  {
   "cell_type": "code",
   "execution_count": null,
   "metadata": {},
   "outputs": [],
   "source": []
  }
 ],
 "metadata": {
  "kernelspec": {
   "display_name": "Python 3.10.4 64-bit ('3.10.4')",
   "language": "python",
   "name": "python3"
  },
  "language_info": {
   "name": "python",
   "version": "3.10.4"
  },
  "orig_nbformat": 4,
  "vscode": {
   "interpreter": {
    "hash": "8ebb7c335093bb2a6e5a771fe2f24267b9482242c441074cc9d820c00b8871c6"
   }
  }
 },
 "nbformat": 4,
 "nbformat_minor": 2
}
