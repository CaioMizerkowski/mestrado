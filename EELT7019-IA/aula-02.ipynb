{
 "cells": [
  {
   "cell_type": "markdown",
   "metadata": {},
   "source": [
    "# Busca em grafo - algoritmo de Dijstra\n"
   ]
  },
  {
   "cell_type": "markdown",
   "metadata": {},
   "source": [
    "#### Referências\n",
    "\n",
    "- https://theory.stanford.edu/~amitp/GameProgramming/AStarComparison.html\n"
   ]
  },
  {
   "cell_type": "markdown",
   "metadata": {},
   "source": [
    "#### Código\n"
   ]
  },
  {
   "cell_type": "code",
   "execution_count": 1,
   "metadata": {},
   "outputs": [],
   "source": [
    "import numpy as np\n",
    "from itertools import product\n"
   ]
  },
  {
   "cell_type": "code",
   "execution_count": null,
   "metadata": {},
   "outputs": [],
   "source": [
    "class A_start:\n",
    "    def __init__(self, dimension) -> None:\n",
    "        self.dimension = dimension\n",
    "        self.x_values = list(range(1, self.dimension[0] + 1))\n",
    "        self.y_values = list(range(1, self.dimension[1] + 1))\n",
    "        self.xy_pairs = list(product(self.x_values, self.y_values))\n",
    "\n",
    "    def set_nodes(self):\n",
    "        self.nodes = []\n",
    "        for x, y in self.xy_pairs:\n",
    "            self.nodes.append(gen_node(x, y))\n",
    "\n",
    "    def set_problem(self, start, target):\n",
    "        self.close = set()\n",
    "        self.open = set()\n",
    "\n",
    "        self.start = (1, 9)\n",
    "        self.target = (9, 1)\n",
    "        self.start_id = self.xy_pairs.index(start)\n",
    "        self.target_id = self.xy_pairs.index(target)\n",
    "\n",
    "        self.open.add(self.start_id)\n",
    "        self.set_nodes()\n",
    "        self.nodes[self.start_id][\"distance\"] = 0\n",
    "\n",
    "    def get_route(self):\n",
    "        route = []\n",
    "        current = self.target_id\n",
    "        route.append(self.xy_pairs[current])\n",
    "\n",
    "        while current != self.start_id:\n",
    "            current = nodes[current][\"predecessor\"]\n",
    "            route.append(self.xy_pairs[current])\n",
    "\n",
    "        return route.reverse()\n",
    "    \n",
    "    def execute(self):\n",
    "        current = self.start_id\n",
    "        while current != self.target_id:\n",
    "            current = best_n_from_open(self.open)\n",
    "            self.open.discard(current)\n",
    "            self.close.add(current)\n",
    "\n",
    "            for n in get_neighbors(current):\n",
    "                cost = g_cost(current) + movement_cost(current, n)\n",
    "\n",
    "                if self.nodes[n][\"distance\"] > cost or ((n not in self.close) and (n not in self.open)):\n",
    "                    self.close.discard(n)\n",
    "                    self.nodes[n][\"distance\"] = cost + h_cost(n)\n",
    "                    self.nodes[n][\"predecessor\"] = current\n",
    "                    open.add(n)\n"
   ]
  },
  {
   "cell_type": "code",
   "execution_count": 2,
   "metadata": {},
   "outputs": [],
   "source": [
    "dimension = (10, 10)\n",
    "x_values = list(range(1, dimension[0] + 1))\n",
    "y_values = list(range(1, dimension[1] + 1))\n",
    "xy_pairs = list(product(x_values, y_values))\n"
   ]
  },
  {
   "cell_type": "code",
   "execution_count": 3,
   "metadata": {},
   "outputs": [],
   "source": [
    "def gen_neighbors(x0, y0):\n",
    "    index_x = x_values.index(x0)\n",
    "    index_y = y_values.index(y0)\n",
    "    iterations = [(1, 0), (-1, 0), (0, 1), (0, -1)]\n",
    "    neighbors = []\n",
    "    for xi, yi in iterations:\n",
    "        if index_x + xi < 0 or index_x + xi > dimension[0] - 1:\n",
    "            continue\n",
    "\n",
    "        if index_y + yi < 0 or index_y + yi > dimension[1] - 1:\n",
    "            continue\n",
    "\n",
    "        neighbor = (\n",
    "            x_values[index_x + xi],\n",
    "            y_values[index_y + yi],\n",
    "        )\n",
    "        neighbor_id = xy_pairs.index(neighbor)\n",
    "\n",
    "        neighbors.append({\"id\": neighbor_id, \"w\": 10})\n",
    "    return neighbors\n"
   ]
  },
  {
   "cell_type": "code",
   "execution_count": 4,
   "metadata": {},
   "outputs": [],
   "source": [
    "def gen_node(x, y):\n",
    "    node = {\n",
    "        \"id\": xy_pairs.index((x, y)),\n",
    "        \"x\": x,\n",
    "        \"y\": y,\n",
    "        \"neighbors\": gen_neighbors(x, y),\n",
    "        \"distance\": np.inf,\n",
    "        \"predecessor\": None,\n",
    "    }\n",
    "    return node\n"
   ]
  },
  {
   "cell_type": "code",
   "execution_count": 5,
   "metadata": {},
   "outputs": [],
   "source": [
    "start = (1, 9)\n",
    "target = (9, 1)\n",
    "nodes = []\n",
    "for x, y in xy_pairs:\n",
    "    nodes.append(gen_node(x, y))\n"
   ]
  },
  {
   "cell_type": "code",
   "execution_count": 6,
   "metadata": {},
   "outputs": [],
   "source": [
    "# Manhatan distance\n",
    "def h_cost(id):\n",
    "    x, y = xy_pairs[id]\n",
    "    return abs(x - target[0]) + abs(y - target[1])\n"
   ]
  },
  {
   "cell_type": "code",
   "execution_count": 7,
   "metadata": {},
   "outputs": [],
   "source": [
    "def g_cost(id):\n",
    "    return nodes[id][\"distance\"]\n"
   ]
  },
  {
   "cell_type": "code",
   "execution_count": 8,
   "metadata": {},
   "outputs": [],
   "source": [
    "def movement_cost(id, c_id):\n",
    "    x, y = xy_pairs[id]\n",
    "    xc, yc = xy_pairs[c_id]\n",
    "\n",
    "    if x < target[0] or y > target[1]:\n",
    "        return np.inf\n",
    "    if x > xc or y < yc:\n",
    "        return np.inf\n",
    "\n",
    "    return abs(x - xc) + abs(y - yc)\n"
   ]
  },
  {
   "cell_type": "code",
   "execution_count": 9,
   "metadata": {},
   "outputs": [],
   "source": [
    "def best_n_from_open(open):\n",
    "    return min(open, key=lambda id: nodes[id][\"distance\"])\n"
   ]
  },
  {
   "cell_type": "code",
   "execution_count": 10,
   "metadata": {},
   "outputs": [],
   "source": [
    "def get_neighbors(id):\n",
    "    yield from [n[\"id\"] for n in nodes[id][\"neighbors\"]]\n"
   ]
  },
  {
   "cell_type": "code",
   "execution_count": 13,
   "metadata": {},
   "outputs": [],
   "source": [
    "start_id = xy_pairs.index(start)\n",
    "target_id = xy_pairs.index(target)\n",
    "close = set()\n",
    "open = set()\n",
    "open.add(start_id)\n",
    "nodes[start_id][\"distance\"] = 0\n",
    "\n",
    "current = start_id\n",
    "while current != target_id:\n",
    "    current = best_n_from_open(open)\n",
    "    open.discard(current)\n",
    "    close.add(current)\n",
    "\n",
    "    for n in get_neighbors(current):\n",
    "        cost = g_cost(current) + movement_cost(current, n)\n",
    "\n",
    "        if nodes[n][\"distance\"] > cost or ((n not in close) and (n not in open)):\n",
    "            close.discard(n)\n",
    "            nodes[n][\"distance\"] = cost + h_cost(n)\n",
    "            nodes[n][\"predecessor\"] = current\n",
    "            open.add(n)\n"
   ]
  }
 ],
 "metadata": {
  "kernelspec": {
   "display_name": "Python 3.10.4 64-bit ('3.10.4')",
   "language": "python",
   "name": "python3"
  },
  "language_info": {
   "codemirror_mode": {
    "name": "ipython",
    "version": 3
   },
   "file_extension": ".py",
   "mimetype": "text/x-python",
   "name": "python",
   "nbconvert_exporter": "python",
   "pygments_lexer": "ipython3",
   "version": "3.10.4"
  },
  "orig_nbformat": 4,
  "vscode": {
   "interpreter": {
    "hash": "8ebb7c335093bb2a6e5a771fe2f24267b9482242c441074cc9d820c00b8871c6"
   }
  }
 },
 "nbformat": 4,
 "nbformat_minor": 2
}
