{
 "cells": [
  {
   "cell_type": "markdown",
   "metadata": {},
   "source": [
    "# Busca em grafo - algoritmo de Dijstra\n"
   ]
  },
  {
   "cell_type": "markdown",
   "metadata": {},
   "source": [
    "#### Referências\n",
    "\n",
    "- https://theory.stanford.edu/~amitp/GameProgramming/AStarComparison.html\n"
   ]
  },
  {
   "cell_type": "markdown",
   "metadata": {},
   "source": [
    "#### Código\n"
   ]
  },
  {
   "cell_type": "code",
   "execution_count": 1,
   "metadata": {},
   "outputs": [],
   "source": [
    "import numpy as np\n",
    "from itertools import product\n"
   ]
  },
  {
   "cell_type": "code",
   "execution_count": 25,
   "metadata": {},
   "outputs": [],
   "source": [
    "class A_start:\n",
    "    def __init__(self, dimension: tuple[int, int]) -> None:\n",
    "        self.dimension = dimension\n",
    "        self.x_values: list[int] = list(range(1, self.dimension[0] + 1))\n",
    "        self.y_values: list[int] = list(range(1, self.dimension[1] + 1))\n",
    "        self.xy_pairs: list[tuple[int, int]] = list(\n",
    "            product(self.x_values, self.y_values)\n",
    "        )\n",
    "        self._iterations: list[tuple[int, int]] = [(1, 0), (-1, 0), (0, 1), (0, -1)]\n",
    "\n",
    "    def reset_nodes(self) -> None:\n",
    "        self.nodes: list[dict] = []\n",
    "        for x, y in self.xy_pairs:\n",
    "            self.nodes.append(self.gen_nodes(x, y))\n",
    "        self.nodes[self.start_id][\"distance\"] = 0\n",
    "\n",
    "    def reset_sets(self) -> None:\n",
    "        self.close: set[int] = set()\n",
    "        self.open: set[int] = set()\n",
    "        self.open.add(self.start_id)\n",
    "\n",
    "    def set_problem(self, start: tuple[int, int], target: tuple[int, int]) -> None:\n",
    "        self.start = start\n",
    "        self.target = target\n",
    "        self.start_id = self.xy_pairs.index(self.start)\n",
    "        self.target_id = self.xy_pairs.index(self.target)\n",
    "\n",
    "        self.reset_nodes()\n",
    "        self.reset_sets()\n",
    "\n",
    "    def gen_nodes(self, x: int, y: int) -> dict:\n",
    "        node_id = self.xy_pairs.index((x, y))\n",
    "        node = {\n",
    "            \"id\": node_id,\n",
    "            \"x\": x,\n",
    "            \"y\": y,\n",
    "            \"neighbors\": self.gen_neighbors(node_id, x, y),\n",
    "            \"distance\": np.inf,\n",
    "            \"predecessor\": None,\n",
    "        }\n",
    "        return node\n",
    "\n",
    "    def inside_grid(self, index_x: int, index_y: int) -> bool:\n",
    "        return 0 <= index_x < self.dimension[0] and 0 <= index_y < self.dimension[1]\n",
    "\n",
    "    def distance_grid(self, node_id: int, neighbor_id: int) -> float:\n",
    "        x, y = self.xy_pairs[node_id]\n",
    "        xn, yn = self.xy_pairs[neighbor_id]\n",
    "\n",
    "        if (y, yn) in [(5, 6), (6, 5)] and (x, xn) in [\n",
    "            (3, 3),\n",
    "            (4, 4),\n",
    "            (5, 5),\n",
    "            (6, 6),\n",
    "            (7, 7),\n",
    "        ]:\n",
    "            return np.inf\n",
    "\n",
    "        if (x, xn) in [(5, 6), (6, 5), (7, 8), (8, 7)]:\n",
    "            return 5\n",
    "\n",
    "        if (y, yn) in [(5, 6), (6, 5)]:\n",
    "            return 15\n",
    "\n",
    "        return 10\n",
    "\n",
    "    def gen_neighbors(self, node_id: int, x: int, y: int) -> dict:\n",
    "        index_x = self.x_values.index(x)\n",
    "        index_y = self.y_values.index(y)\n",
    "\n",
    "        neighbors = dict()\n",
    "        for xi, yi in self._iterations:\n",
    "            new_index_x = index_x + xi\n",
    "            new_index_y = index_y + yi\n",
    "\n",
    "            if not self.inside_grid(new_index_x, new_index_y):\n",
    "                continue\n",
    "\n",
    "            neighbor = (\n",
    "                self.x_values[new_index_x],\n",
    "                self.y_values[new_index_y],\n",
    "            )\n",
    "            neighbor_id = self.xy_pairs.index(neighbor)\n",
    "            if (distancia := self.distance_grid(node_id, neighbor_id)) == np.inf:\n",
    "                continue\n",
    "            neighbors[neighbor_id] = distancia\n",
    "        return neighbors\n",
    "\n",
    "    def get_neighbors(self, id: int) -> list[int]:\n",
    "        yield from [n for n in self.nodes[id][\"neighbors\"]]\n",
    "\n",
    "    def get_route(self) -> list[tuple[int, int]]:\n",
    "        route = []\n",
    "        current = self.target_id\n",
    "        route.append(self.xy_pairs[current])\n",
    "\n",
    "        while current != self.start_id:\n",
    "            current = self.nodes[current][\"predecessor\"]\n",
    "            route.append(self.xy_pairs[current])\n",
    "        route.reverse()\n",
    "\n",
    "        return route\n",
    "\n",
    "    def h_cost(self, id: int) -> float:\n",
    "        x, y = self.xy_pairs[id]\n",
    "        return abs(x - self.target[0]) + abs(y - self.target[1])\n",
    "\n",
    "    def g_cost(self, id: int) -> float:\n",
    "        return self.nodes[id][\"distance\"]\n",
    "\n",
    "    def movement_cost(self, id: int, n_id: int) -> float:\n",
    "        return self.nodes[id][\"neighbors\"][n_id]\n",
    "\n",
    "    def best_n_from_open(self) -> int:\n",
    "        return min(self.open, key=lambda id: self.nodes[id][\"distance\"])\n",
    "\n",
    "    def execute(self):\n",
    "        current = self.start_id\n",
    "        while current != self.target_id:\n",
    "            current = self.best_n_from_open()\n",
    "            self.open.discard(current)\n",
    "            self.close.add(current)\n",
    "\n",
    "            for n in self.get_neighbors(current):\n",
    "                cost = self.g_cost(current) + self.movement_cost(current, n)\n",
    "\n",
    "                if self.nodes[n][\"distance\"] > cost or (\n",
    "                    (n not in self.close) and (n not in self.open)\n",
    "                ):\n",
    "                    self.close.discard(n)\n",
    "                    self.nodes[n][\"distance\"] = cost + self.h_cost(n)\n",
    "                    self.nodes[n][\"predecessor\"] = current\n",
    "                    self.open.add(n)\n"
   ]
  },
  {
   "cell_type": "code",
   "execution_count": 26,
   "metadata": {},
   "outputs": [],
   "source": [
    "problem = A_start((10, 10))"
   ]
  },
  {
   "cell_type": "code",
   "execution_count": 27,
   "metadata": {},
   "outputs": [],
   "source": [
    "problem.set_problem((9, 2), (1, 9))"
   ]
  },
  {
   "cell_type": "code",
   "execution_count": 28,
   "metadata": {},
   "outputs": [],
   "source": [
    "problem.execute()"
   ]
  },
  {
   "cell_type": "code",
   "execution_count": 29,
   "metadata": {},
   "outputs": [
    {
     "data": {
      "text/plain": [
       "[(9, 2),\n",
       " (9, 3),\n",
       " (9, 4),\n",
       " (9, 5),\n",
       " (9, 6),\n",
       " (8, 6),\n",
       " (7, 6),\n",
       " (6, 6),\n",
       " (6, 7),\n",
       " (6, 8),\n",
       " (5, 8),\n",
       " (4, 8),\n",
       " (3, 8),\n",
       " (2, 8),\n",
       " (1, 8),\n",
       " (1, 9)]"
      ]
     },
     "execution_count": 29,
     "metadata": {},
     "output_type": "execute_result"
    }
   ],
   "source": [
    "problem.get_route()"
   ]
  },
  {
   "cell_type": "code",
   "execution_count": null,
   "metadata": {},
   "outputs": [],
   "source": []
  }
 ],
 "metadata": {
  "kernelspec": {
   "display_name": "Python 3.10.4 64-bit ('3.10.4')",
   "language": "python",
   "name": "python3"
  },
  "language_info": {
   "codemirror_mode": {
    "name": "ipython",
    "version": 3
   },
   "file_extension": ".py",
   "mimetype": "text/x-python",
   "name": "python",
   "nbconvert_exporter": "python",
   "pygments_lexer": "ipython3",
   "version": "3.10.4"
  },
  "orig_nbformat": 4,
  "vscode": {
   "interpreter": {
    "hash": "8ebb7c335093bb2a6e5a771fe2f24267b9482242c441074cc9d820c00b8871c6"
   }
  }
 },
 "nbformat": 4,
 "nbformat_minor": 2
}
