{
 "cells": [
  {
   "cell_type": "markdown",
   "metadata": {},
   "source": [
    "# Introdução\n",
    "- O que é I.A.?\n",
    "- Abordagens de I.A.\n",
    "- Fundamentos de I.A.\n",
    "- A história da I.A.\n",
    "- Evolução da I.A.\n",
    "- Aplicações\n",
    "- Conclusões"
   ]
  },
  {
   "cell_type": "markdown",
   "metadata": {},
   "source": [
    "### O que é I.A?\n",
    "É um termo vendavel, já que a pesquisa precisa captar recursos no mercado."
   ]
  },
  {
   "cell_type": "markdown",
   "metadata": {},
   "source": [
    "### Abordagens\n",
    "Vários pesquisadores iniciaram de forma separada o campo, então existem várias regiões sobre como abordar a IA. Dois eixos principais: humanos-racionalidade, raciocinio-comportamento."
   ]
  },
  {
   "cell_type": "markdown",
   "metadata": {},
   "source": [
    "### Fundamentos de I.A.\n",
    "- Filosofia - Mente é uma como uma máquina, opera o conhecimento codificado em uma linguagem interna e os pensamentos são usados para a tomada de decisões.\n",
    "- Matemática - Formalização matemática e algoritmos.\n",
    "- Psicologia - Estudo de como o cérebro reage a estímulos e como processa informações.\n",
    "- Linguística - Representação do conhecimento.\n",
    "- Engenharia da computação - Tornou disponível o hardware necessário.\n",
    "- Ciência da computação - Tornou disponível o software."
   ]
  }
 ],
 "metadata": {
  "kernelspec": {
   "display_name": "Python 3.10.4 64-bit ('3.10.4')",
   "language": "python",
   "name": "python3"
  },
  "language_info": {
   "name": "python",
   "version": "3.10.4"
  },
  "orig_nbformat": 4,
  "vscode": {
   "interpreter": {
    "hash": "8ebb7c335093bb2a6e5a771fe2f24267b9482242c441074cc9d820c00b8871c6"
   }
  }
 },
 "nbformat": 4,
 "nbformat_minor": 2
}
